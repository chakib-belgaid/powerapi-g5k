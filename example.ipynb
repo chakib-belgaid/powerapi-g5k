{
 "cells": [
  {
   "cell_type": "code",
   "execution_count": 2,
   "metadata": {},
   "outputs": [
    {
     "data": {
      "text/html": [
       "<div>\n",
       "<style scoped>\n",
       "    .dataframe tbody tr th:only-of-type {\n",
       "        vertical-align: middle;\n",
       "    }\n",
       "\n",
       "    .dataframe tbody tr th {\n",
       "        vertical-align: top;\n",
       "    }\n",
       "\n",
       "    .dataframe thead th {\n",
       "        text-align: right;\n",
       "    }\n",
       "</style>\n",
       "<table border=\"1\" class=\"dataframe\">\n",
       "  <thead>\n",
       "    <tr style=\"text-align: right;\">\n",
       "      <th></th>\n",
       "      <th>_id</th>\n",
       "      <th>core</th>\n",
       "      <th>pcu</th>\n",
       "      <th>rapl</th>\n",
       "      <th>sensor</th>\n",
       "      <th>timestamp</th>\n",
       "    </tr>\n",
       "    <tr>\n",
       "      <th>target</th>\n",
       "      <th></th>\n",
       "      <th></th>\n",
       "      <th></th>\n",
       "      <th></th>\n",
       "      <th></th>\n",
       "      <th></th>\n",
       "    </tr>\n",
       "  </thead>\n",
       "  <tbody>\n",
       "    <tr>\n",
       "      <th>8a13fa0bf1c790451df0b9fd5fea724ffb04b5f7e08f9638f67f762370349bc4</th>\n",
       "      <td>10735</td>\n",
       "      <td>10735</td>\n",
       "      <td>0</td>\n",
       "      <td>0</td>\n",
       "      <td>10735</td>\n",
       "      <td>10735</td>\n",
       "    </tr>\n",
       "    <tr>\n",
       "      <th>9db4251154fdc1cf00ca72c70facc55e1ab1e918e83601ffd5f8b91ddb4e6bc5</th>\n",
       "      <td>9904</td>\n",
       "      <td>9904</td>\n",
       "      <td>0</td>\n",
       "      <td>0</td>\n",
       "      <td>9904</td>\n",
       "      <td>9904</td>\n",
       "    </tr>\n",
       "    <tr>\n",
       "      <th>d046858ee9bc32fa8d7198dc3a2e2e124bc6f149624fbbcb8bed432c12abeb9c</th>\n",
       "      <td>10477</td>\n",
       "      <td>10477</td>\n",
       "      <td>0</td>\n",
       "      <td>0</td>\n",
       "      <td>10477</td>\n",
       "      <td>10477</td>\n",
       "    </tr>\n",
       "    <tr>\n",
       "      <th>system</th>\n",
       "      <td>10735</td>\n",
       "      <td>0</td>\n",
       "      <td>10735</td>\n",
       "      <td>10735</td>\n",
       "      <td>10735</td>\n",
       "      <td>10735</td>\n",
       "    </tr>\n",
       "  </tbody>\n",
       "</table>\n",
       "</div>"
      ],
      "text/plain": [
       "                                                      _id   core    pcu  \\\n",
       "target                                                                    \n",
       "8a13fa0bf1c790451df0b9fd5fea724ffb04b5f7e08f963...  10735  10735      0   \n",
       "9db4251154fdc1cf00ca72c70facc55e1ab1e918e83601f...   9904   9904      0   \n",
       "d046858ee9bc32fa8d7198dc3a2e2e124bc6f149624fbbc...  10477  10477      0   \n",
       "system                                              10735      0  10735   \n",
       "\n",
       "                                                     rapl  sensor  timestamp  \n",
       "target                                                                        \n",
       "8a13fa0bf1c790451df0b9fd5fea724ffb04b5f7e08f963...      0   10735      10735  \n",
       "9db4251154fdc1cf00ca72c70facc55e1ab1e918e83601f...      0    9904       9904  \n",
       "d046858ee9bc32fa8d7198dc3a2e2e124bc6f149624fbbc...      0   10477      10477  \n",
       "system                                              10735   10735      10735  "
      ]
     },
     "execution_count": 2,
     "metadata": {},
     "output_type": "execute_result"
    }
   ],
   "source": [
    "import pymongo\n",
    "import math \n",
    "import re\n",
    "import pandas as pd\n",
    "import numpy as np\n",
    "import pylab \n",
    "from matplotlib import pyplot as plt\n",
    "from scipy import stats \n",
    "from  qgrid import show_grid as show \n",
    "from datetime import datetime\n",
    "import seaborn as sns\n",
    "\n",
    "%matplotlib inline\n",
    "sns.set_style(\"whitegrid\")\n",
    "today=!(date +\"%d%m%y\")\n",
    "today=today[0]\n",
    "testname=\"test4041218\"\n",
    "client = pymongo.MongoClient('172.16.45.8', 27017)\n",
    "db = client.zrapls\n",
    "sensors= db[\"sensor\"+testname]\n",
    "sensors.create_index([('timestamp',pymongo.ASCENDING)])\n",
    "\n",
    "data = pd.DataFrame(list(db['zensorbichou'].find()))\n",
    "x=data.groupby('target')\n",
    "x.count()"
   ]
  },
  {
   "cell_type": "markdown",
   "metadata": {},
   "source": [
    "# getting all the collection "
   ]
  },
  {
   "cell_type": "code",
   "execution_count": null,
   "metadata": {},
   "outputs": [],
   "source": [
    "data = pd.DataFrame(list(db['zensorbichou'].find()))"
   ]
  },
  {
   "cell_type": "markdown",
   "metadata": {},
   "source": [
    "# filtring the time of all recorded containers "
   ]
  },
  {
   "cell_type": "code",
   "execution_count": null,
   "metadata": {},
   "outputs": [],
   "source": [
    "x=data.groupby('target')\n",
    "x.count()"
   ]
  }
 ],
 "metadata": {
  "kernelspec": {
   "display_name": "Python 3",
   "language": "python",
   "name": "python3"
  },
  "language_info": {
   "codemirror_mode": {
    "name": "ipython",
    "version": 3
   },
   "file_extension": ".py",
   "mimetype": "text/x-python",
   "name": "python",
   "nbconvert_exporter": "python",
   "pygments_lexer": "ipython3",
   "version": "3.6.6"
  }
 },
 "nbformat": 4,
 "nbformat_minor": 2
}
