{
 "cells": [
  {
   "cell_type": "code",
   "execution_count": 1,
   "metadata": {},
   "outputs": [],
   "source": [
    "import pymongo\n",
    "import math \n",
    "# import re\n",
    "import pandas as pd\n",
    "# import numpy as np\n",
    "import pylab \n",
    "from matplotlib import pyplot as plt\n",
    "# from scipy import stats \n",
    "from  qgrid import show_grid as show \n",
    "from datetime import datetime\n",
    "# import seaborn as sns\n",
    "\n",
    "def gettimetamps(containerId): \n",
    "    containerdata=list(sensors.find({'target':containerId},projection=['timestamp']))\n",
    "    begintime= containerdata[0]['timestamp']\n",
    "    endtime=containerdata[-1]['timestamp']\n",
    "    return begintime , endtime \n",
    "\n",
    "\n",
    "def getpowers(begin, end): \n",
    "    #get the power consumption of the system  between begin and end \n",
    "    x=list(sensors.find({'target':'system','timestamp' :{'$gte':begin,'$lte':end}},projection=['rapl','timestamp']))\n",
    "    conso= pd.DataFrame(x)\n",
    "    sonde=next(iter(x[0]['rapl']['0']))\n",
    "    conso['power']=conso['rapl'].apply(lambda row :math.ldexp( row['0'][sonde]['RAPL_ENERGY_PKG'],-32))\n",
    "    return conso.loc[:,['timestamp','power']]\n",
    "\n",
    "def getenergy(powers):\n",
    "    return powers['power'].sum()\n",
    "\n",
    "def getmeasures(testname,databasename='rapls2'): \n",
    "    db=client[databasename]\n",
    "    meausres = db['recap'+testname].find(projection={'_id': False,'id':False})\n",
    "    return pd.DataFrame(list(meausres))\n",
    "\n",
    "client = pymongo.MongoClient('172.16.45.8', 27017)"
   ]
  },
  {
   "cell_type": "markdown",
   "metadata": {},
   "source": [
    "# simple example"
   ]
  },
  {
   "cell_type": "code",
   "execution_count": 2,
   "metadata": {},
   "outputs": [
    {
     "data": {
      "text/html": [
       "<div>\n",
       "<style scoped>\n",
       "    .dataframe tbody tr th:only-of-type {\n",
       "        vertical-align: middle;\n",
       "    }\n",
       "\n",
       "    .dataframe tbody tr th {\n",
       "        vertical-align: top;\n",
       "    }\n",
       "\n",
       "    .dataframe thead th {\n",
       "        text-align: right;\n",
       "    }\n",
       "</style>\n",
       "<table border=\"1\" class=\"dataframe\">\n",
       "  <thead>\n",
       "    <tr style=\"text-align: right;\">\n",
       "      <th></th>\n",
       "      <th>execution energy</th>\n",
       "      <th>execution time</th>\n",
       "      <th>name</th>\n",
       "      <th>warmup energy</th>\n",
       "      <th>warmup time</th>\n",
       "    </tr>\n",
       "  </thead>\n",
       "  <tbody>\n",
       "    <tr>\n",
       "      <th>0</th>\n",
       "      <td>181.449402</td>\n",
       "      <td>7</td>\n",
       "      <td>t2</td>\n",
       "      <td>0.0</td>\n",
       "      <td>0</td>\n",
       "    </tr>\n",
       "    <tr>\n",
       "      <th>1</th>\n",
       "      <td>506.409241</td>\n",
       "      <td>21</td>\n",
       "      <td>t2</td>\n",
       "      <td>0.0</td>\n",
       "      <td>0</td>\n",
       "    </tr>\n",
       "    <tr>\n",
       "      <th>2</th>\n",
       "      <td>892.012817</td>\n",
       "      <td>27</td>\n",
       "      <td>t3</td>\n",
       "      <td>0.0</td>\n",
       "      <td>0</td>\n",
       "    </tr>\n",
       "  </tbody>\n",
       "</table>\n",
       "</div>"
      ],
      "text/plain": [
       "   execution energy  execution time name  warmup energy  warmup time\n",
       "0        181.449402               7   t2            0.0            0\n",
       "1        506.409241              21   t2            0.0            0\n",
       "2        892.012817              27   t3            0.0            0"
      ]
     },
     "execution_count": 2,
     "metadata": {},
     "output_type": "execute_result"
    }
   ],
   "source": [
    "getmeasures(\"test2160119\")"
   ]
  },
  {
   "cell_type": "markdown",
   "metadata": {},
   "source": [
    "# more details \n",
    "\n",
    "## getting the sensors collection "
   ]
  },
  {
   "cell_type": "code",
   "execution_count": 67,
   "metadata": {},
   "outputs": [
    {
     "data": {
      "text/plain": [
       "'timestamp_1'"
      ]
     },
     "execution_count": 67,
     "metadata": {},
     "output_type": "execute_result"
    }
   ],
   "source": [
    "testname=\"test2160119\" # the mahcine used for the test \n",
    "client = pymongo.MongoClient('172.16.45.8', 27017) # the Ip addresse of the database\n",
    "db = client.rapls2 # name of the database [dbname in startmachine.sh ]\n",
    "sensors= db[\"sensortest2160119\"]\n",
    "\n",
    "sensors.create_index([('timestamp',pymongo.ASCENDING)]) # just to accelerate the search requests "
   ]
  },
  {
   "cell_type": "markdown",
   "metadata": {},
   "source": [
    "## getting the timestamps of the container "
   ]
  },
  {
   "cell_type": "code",
   "execution_count": 77,
   "metadata": {},
   "outputs": [
    {
     "name": "stdout",
     "output_type": "stream",
     "text": [
      "begin time 2019-01-16 19:15:22.291000 \n",
      "end time  2019-01-16 19:15:27.293000\n"
     ]
    }
   ],
   "source": [
    "mycontainerId='8e085cf136075aee9b0a2b722fac86e77b84f4fcc2079b9c004fae023b3ee9dd' # the id of the container \n",
    "# you can get this id using the following command in the test machine \n",
    "# docker inspect --format \"{{.Id}}\" containername\n",
    "beginTime , endTime =gettimetamps(mycontainerId)\n",
    "\n",
    "print(\"begin time {} \\nend time  {}\".format(beginTime,endTime))"
   ]
  },
  {
   "cell_type": "markdown",
   "metadata": {},
   "source": [
    "## getting the power a container "
   ]
  },
  {
   "cell_type": "code",
   "execution_count": 79,
   "metadata": {},
   "outputs": [
    {
     "name": "stdout",
     "output_type": "stream",
     "text": [
      "my container powers\n"
     ]
    },
    {
     "data": {
      "text/html": [
       "<div>\n",
       "<style scoped>\n",
       "    .dataframe tbody tr th:only-of-type {\n",
       "        vertical-align: middle;\n",
       "    }\n",
       "\n",
       "    .dataframe tbody tr th {\n",
       "        vertical-align: top;\n",
       "    }\n",
       "\n",
       "    .dataframe thead th {\n",
       "        text-align: right;\n",
       "    }\n",
       "</style>\n",
       "<table border=\"1\" class=\"dataframe\">\n",
       "  <thead>\n",
       "    <tr style=\"text-align: right;\">\n",
       "      <th></th>\n",
       "      <th>timestamp</th>\n",
       "      <th>power</th>\n",
       "    </tr>\n",
       "  </thead>\n",
       "  <tbody>\n",
       "    <tr>\n",
       "      <th>0</th>\n",
       "      <td>2019-01-16 19:15:22.291</td>\n",
       "      <td>26.662781</td>\n",
       "    </tr>\n",
       "    <tr>\n",
       "      <th>1</th>\n",
       "      <td>2019-01-16 19:15:23.292</td>\n",
       "      <td>30.913391</td>\n",
       "    </tr>\n",
       "    <tr>\n",
       "      <th>2</th>\n",
       "      <td>2019-01-16 19:15:24.292</td>\n",
       "      <td>23.523682</td>\n",
       "    </tr>\n",
       "    <tr>\n",
       "      <th>3</th>\n",
       "      <td>2019-01-16 19:15:25.292</td>\n",
       "      <td>23.526733</td>\n",
       "    </tr>\n",
       "    <tr>\n",
       "      <th>4</th>\n",
       "      <td>2019-01-16 19:15:26.292</td>\n",
       "      <td>23.543640</td>\n",
       "    </tr>\n",
       "    <tr>\n",
       "      <th>5</th>\n",
       "      <td>2019-01-16 19:15:27.293</td>\n",
       "      <td>23.524963</td>\n",
       "    </tr>\n",
       "  </tbody>\n",
       "</table>\n",
       "</div>"
      ],
      "text/plain": [
       "                timestamp      power\n",
       "0 2019-01-16 19:15:22.291  26.662781\n",
       "1 2019-01-16 19:15:23.292  30.913391\n",
       "2 2019-01-16 19:15:24.292  23.523682\n",
       "3 2019-01-16 19:15:25.292  23.526733\n",
       "4 2019-01-16 19:15:26.292  23.543640\n",
       "5 2019-01-16 19:15:27.293  23.524963"
      ]
     },
     "execution_count": 79,
     "metadata": {},
     "output_type": "execute_result"
    }
   ],
   "source": [
    "power = getpowers(beginTime,endTime) # get an array of the power consumption during the time stamp \n",
    "print('my container powers')\n",
    "power\n"
   ]
  },
  {
   "cell_type": "markdown",
   "metadata": {},
   "source": [
    "## getting the total energy "
   ]
  },
  {
   "cell_type": "code",
   "execution_count": 20,
   "metadata": {},
   "outputs": [
    {
     "name": "stdout",
     "output_type": "stream",
     "text": [
      "885.20361328125 joules\n"
     ]
    }
   ],
   "source": [
    "totalenergy= getenergy(power) # to get the energy consumption of the container \n",
    "\n",
    "print(str(totalenergy) + ' joules')"
   ]
  },
  {
   "cell_type": "code",
   "execution_count": null,
   "metadata": {},
   "outputs": [],
   "source": []
  }
 ],
 "metadata": {
  "kernelspec": {
   "display_name": "Python 3",
   "language": "python",
   "name": "python3"
  },
  "language_info": {
   "codemirror_mode": {
    "name": "ipython",
    "version": 3
   },
   "file_extension": ".py",
   "mimetype": "text/x-python",
   "name": "python",
   "nbconvert_exporter": "python",
   "pygments_lexer": "ipython3",
   "version": "3.6.6"
  }
 },
 "nbformat": 4,
 "nbformat_minor": 2
}
