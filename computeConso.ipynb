{
 "cells": [
  {
   "cell_type": "code",
   "execution_count": 28,
   "metadata": {},
   "outputs": [],
   "source": [
    "import pymongo\n",
    "import math \n",
    "# import re\n",
    "import pandas as pd\n",
    "# import numpy as np\n",
    "import pylab \n",
    "from matplotlib import pyplot as plt\n",
    "# from scipy import stats \n",
    "from  qgrid import show_grid as show \n",
    "from datetime import datetime\n",
    "# import seaborn as sns\n",
    "\n",
    "class testCase(object): \n",
    "    \"\"\"in general its just the name of the machine where we launched the test \"\"\"\n",
    "    def __init__ (self , testname,database='rapls2',serveraddr='172.16.45.8',serverport=27017): \n",
    "        self._client = pymongo.MongoClient(serveraddr, serverport)\n",
    "        self._db=self._client[database]\n",
    "        self._testname=testname \n",
    "        self._sensors=self._db['sensor'+self._testname]\n",
    "        \n",
    "    def gettimetamps(self,containername): \n",
    "        containerdata=list(self._sensors.find({'target':containername},projection=['timestamp']))\n",
    "        begintime= containerdata[0]['timestamp']\n",
    "        endtime=containerdata[-1]['timestamp']\n",
    "        return begintime , endtime \n",
    "\n",
    "    def getpowers(self,containername): \n",
    "        #get the power consumption of the system  between begin and end \n",
    "        begin , end = self.gettimetamps(containername) \n",
    "        x=list(self._sensors.find({'target':'system','timestamp' :{'$gte':begin,'$lte':end}},projection=['rapl','timestamp']))\n",
    "        conso= pd.DataFrame(x)\n",
    "        sonde=next(iter(x[0]['rapl']['0']))\n",
    "        conso['power']=conso['rapl'].apply(lambda row :math.ldexp( row['0'][sonde]['RAPL_ENERGY_PKG'],-32))\n",
    "        return conso.loc[:,['timestamp','power']]\n",
    "\n",
    "    def getenergy(self,containername):\n",
    "        powers =self.getpowers(containername)\n",
    "        return powers['power'].sum()\n",
    "\n",
    "    def getrecap(self): \n",
    "        meausres = self._db['recap'+self._testname].find(projection={'_id': False,'id':False})\n",
    "        return pd.DataFrame(list(meausres))\n",
    "    \n",
    "\n",
    "\n"
   ]
  },
  {
   "cell_type": "markdown",
   "metadata": {},
   "source": [
    "# simple example"
   ]
  },
  {
   "cell_type": "code",
   "execution_count": 29,
   "metadata": {},
   "outputs": [],
   "source": [
    "#getting an instance of our machine \n",
    "machine= testCase('tt1230119')\n"
   ]
  },
  {
   "cell_type": "code",
   "execution_count": 30,
   "metadata": {
    "scrolled": true
   },
   "outputs": [
    {
     "data": {
      "text/html": [
       "<div>\n",
       "<style scoped>\n",
       "    .dataframe tbody tr th:only-of-type {\n",
       "        vertical-align: middle;\n",
       "    }\n",
       "\n",
       "    .dataframe tbody tr th {\n",
       "        vertical-align: top;\n",
       "    }\n",
       "\n",
       "    .dataframe thead th {\n",
       "        text-align: right;\n",
       "    }\n",
       "</style>\n",
       "<table border=\"1\" class=\"dataframe\">\n",
       "  <thead>\n",
       "    <tr style=\"text-align: right;\">\n",
       "      <th></th>\n",
       "      <th>execution energy</th>\n",
       "      <th>execution time</th>\n",
       "      <th>name</th>\n",
       "      <th>warmup energy</th>\n",
       "      <th>warmup time</th>\n",
       "    </tr>\n",
       "  </thead>\n",
       "  <tbody>\n",
       "    <tr>\n",
       "      <th>0</th>\n",
       "      <td>300.015381</td>\n",
       "      <td>12</td>\n",
       "      <td>yolo</td>\n",
       "      <td>0.0</td>\n",
       "      <td>0</td>\n",
       "    </tr>\n",
       "  </tbody>\n",
       "</table>\n",
       "</div>"
      ],
      "text/plain": [
       "   execution energy  execution time  name  warmup energy  warmup time\n",
       "0        300.015381              12  yolo            0.0            0"
      ]
     },
     "execution_count": 30,
     "metadata": {},
     "output_type": "execute_result"
    }
   ],
   "source": [
    "#to print all the meausres done in this machine \n",
    "machine.getrecap()\n",
    "## this only used if you launched the test with tester.sh "
   ]
  },
  {
   "cell_type": "code",
   "execution_count": null,
   "metadata": {},
   "outputs": [],
   "source": []
  }
 ],
 "metadata": {
  "kernelspec": {
   "display_name": "Python 3",
   "language": "python",
   "name": "python3"
  },
  "language_info": {
   "codemirror_mode": {
    "name": "ipython",
    "version": 3
   },
   "file_extension": ".py",
   "mimetype": "text/x-python",
   "name": "python",
   "nbconvert_exporter": "python",
   "pygments_lexer": "ipython3",
   "version": "3.6.6"
  }
 },
 "nbformat": 4,
 "nbformat_minor": 2
}
